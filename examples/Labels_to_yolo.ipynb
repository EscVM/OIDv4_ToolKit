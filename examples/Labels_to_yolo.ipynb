{
 "cells": [
  {
   "cell_type": "code",
   "execution_count": 1,
   "metadata": {
    "ExecuteTime": {
     "end_time": "2018-08-18T14:13:24.544017Z",
     "start_time": "2018-08-18T14:13:24.222116Z"
    },
    "scrolled": false
   },
   "outputs": [
    {
     "name": "stderr",
     "output_type": "stream",
     "text": [
      "/home/denis/anaconda3/lib/python3.6/importlib/_bootstrap.py:219: RuntimeWarning: numpy.dtype size changed, may indicate binary incompatibility. Expected 96, got 88\n",
      "  return f(*args, **kwds)\n",
      "/home/denis/anaconda3/lib/python3.6/importlib/_bootstrap.py:219: RuntimeWarning: numpy.dtype size changed, may indicate binary incompatibility. Expected 96, got 88\n",
      "  return f(*args, **kwds)\n"
     ]
    },
    {
     "data": {
      "application/vnd.jupyter.widget-view+json": {
       "model_id": "a50410af02c746beb1f494b0418d254c",
       "version_major": 2,
       "version_minor": 0
      },
      "text/plain": [
       "HBox(children=(IntProgress(value=1, bar_style='info', max=1), HTML(value='')))"
      ]
     },
     "metadata": {},
     "output_type": "display_data"
    }
   ],
   "source": [
    "from __future__ import print_function, division\n",
    "import pandas as pd, numpy as np\n",
    "import cv2\n",
    "import matplotlib as mpl\n",
    "import matplotlib.pyplot as plt\n",
    "%matplotlib inline\n",
    "\n",
    "from tqdm import tqdm_notebook, tqdm\n",
    "tqdm.pandas(tqdm_notebook(desc=''))\n",
    "\n",
    "import time\n",
    "from IPython.display import clear_output"
   ]
  },
  {
   "cell_type": "code",
   "execution_count": 2,
   "metadata": {
    "ExecuteTime": {
     "end_time": "2018-08-18T14:13:24.546270Z",
     "start_time": "2018-08-18T14:13:24.544914Z"
    }
   },
   "outputs": [],
   "source": [
    "DATA_PATH = '' #Set your path here"
   ]
  },
  {
   "cell_type": "code",
   "execution_count": 3,
   "metadata": {
    "ExecuteTime": {
     "end_time": "2018-08-18T14:13:25.292489Z",
     "start_time": "2018-08-18T14:13:24.547083Z"
    }
   },
   "outputs": [],
   "source": [
    "#---------------------- Train --------------------------------\n",
    "Car_train = pd.read_csv(DATA_PATH+'train/Car/Label/Car.csv')\n",
    "Bus_train = pd.read_csv(DATA_PATH+'train/Bus/Label/Bus.csv')\n",
    "Person_train = pd.read_csv(DATA_PATH+'train/Person/Label/Person.csv')\n",
    "Truck_train = pd.read_csv(DATA_PATH+'train/Truck/Label/Truck.csv')\n",
    "#----------------------- Test --------------------------------\n",
    "Car_test = pd.read_csv(DATA_PATH+'test/Car/Label/Car.csv')\n",
    "Bus_test = pd.read_csv(DATA_PATH+'test/Bus/Label/Bus.csv')\n",
    "Person_test = pd.read_csv(DATA_PATH+'test/Person/Label/Person.csv')\n",
    "Truck_test = pd.read_csv(DATA_PATH+'test/Truck/Label/Truck.csv')"
   ]
  },
  {
   "cell_type": "code",
   "execution_count": 4,
   "metadata": {
    "ExecuteTime": {
     "end_time": "2018-08-18T14:13:25.650221Z",
     "start_time": "2018-08-18T14:13:25.293638Z"
    }
   },
   "outputs": [],
   "source": [
    "#---------------------- TrainPath --------------------------------\n",
    "Car_train['PATH'] = Car_train['ImageID'].apply(lambda x: 'train/Car/'+x+'.jpg')\n",
    "Bus_train['PATH'] = Bus_train['ImageID'].apply(lambda x: 'train/Bus/'+x+'.jpg')\n",
    "Person_train['PATH'] = Person_train['ImageID'].apply(lambda x: 'train/Person/'+x+'.jpg')\n",
    "Truck_train['PATH'] = Truck_train['ImageID'].apply(lambda x: 'train/Truck/'+x+'.jpg')\n",
    "#----------------------- TestPath --------------------------------\n",
    "Car_test['PATH'] = Car_test['ImageID'].apply(lambda x: 'test/Car/'+x+'.jpg')\n",
    "Bus_test['PATH'] = Bus_test['ImageID'].apply(lambda x: 'test/Bus/'+x+'.jpg')\n",
    "Person_test['PATH'] = Person_test['ImageID'].apply(lambda x: 'test/Person/'+x+'.jpg')\n",
    "Truck_test['PATH'] = Truck_test['ImageID'].apply(lambda x: 'test/Truck/'+x+'.jpg')\n",
    "#----------------------- Labels ------------------------------\n",
    "Car_train['CAT'], Car_test['CAT'] = 0, 0\n",
    "Bus_train['CAT'], Bus_test['CAT'] = 1, 1\n",
    "Person_train['CAT'], Person_test['CAT'] = 3, 3\n",
    "Truck_train['CAT'], Truck_test['CAT'] = 2, 2\n",
    "#---------------------- concatenate --------------------------\n",
    "train = pd.concat((Car_train, Bus_train, Person_train, Truck_train))\n",
    "test = pd.concat((Car_test, Bus_test, Person_test, Truck_test))"
   ]
  },
  {
   "cell_type": "code",
   "execution_count": 5,
   "metadata": {
    "ExecuteTime": {
     "end_time": "2018-08-18T14:13:25.653949Z",
     "start_time": "2018-08-18T14:13:25.651334Z"
    }
   },
   "outputs": [],
   "source": [
    "def convert_labels(xmin,xmax, ymin, ymax):\n",
    "    \"\"\"\n",
    "    Definition: Parses label files to extract label and bounding box\n",
    "        coordinates.  Converts (x1, y1, x1, y2) KITTI format to\n",
    "        (x, y, width, height) normalized YOLO format.\n",
    "    \"\"\"\n",
    "   \n",
    "    x = (xmin + xmax)/2.0\n",
    "    y = (ymin + ymax)/2.0\n",
    "    w = xmax - xmin\n",
    "    h = ymax - ymin\n",
    "    \n",
    "    return x,y,w,h\n",
    "\n",
    "def proceed(df):\n",
    "    df['x'], df['y'], df['w'], df['h'] = zip(*df[['XMin', 'XMax', 'YMin', 'YMax']].progress_apply(lambda row: convert_labels(row['XMin'], row['XMax'],\n",
    "                                                                                                                             row['YMin'], row['YMax']), axis = 1))\n",
    "    return df"
   ]
  },
  {
   "cell_type": "code",
   "execution_count": 6,
   "metadata": {
    "ExecuteTime": {
     "end_time": "2018-08-18T14:14:01.330876Z",
     "start_time": "2018-08-18T14:13:25.654906Z"
    },
    "scrolled": true
   },
   "outputs": [
    {
     "name": "stderr",
     "output_type": "stream",
     "text": [
      "100%|██████████| 1306858/1306858 [00:32<00:00, 39653.47it/s]\n",
      "100%|██████████| 70920/70920 [00:01<00:00, 41598.30it/s]\n"
     ]
    }
   ],
   "source": [
    "train = proceed(train)\n",
    "test = proceed(test)"
   ]
  },
  {
   "cell_type": "code",
   "execution_count": 12,
   "metadata": {
    "ExecuteTime": {
     "end_time": "2018-08-18T17:31:37.197409Z",
     "start_time": "2018-08-18T17:31:37.193293Z"
    },
    "code_folding": []
   },
   "outputs": [],
   "source": [
    "def save_txt(name, text):\n",
    "    with open(name, 'w') as f:\n",
    "        f.write(text)\n",
    "\n",
    "def make_img_txt(df, t = 'train'):\n",
    "    path_change = []\n",
    "    for category in df['CAT'].unique():\n",
    "        df_cat = df[df['CAT']==category].copy()\n",
    "        PATHES = df_cat['PATH'].unique()\n",
    "        for path in tqdm_notebook((PATHES), total = len(PATHES), desc='Category: {}'.format(category)):\n",
    "            # Make sure that category doesn't cross\n",
    "            path_change.append(path)\n",
    "            text = ''\n",
    "            for label in df_cat[df_cat['PATH'] == path][['CAT', 'x', 'y', 'w', 'h']].astype(str).values:\n",
    "                text += ' '.join(label) + '\\n'\n",
    "            save_txt(DATA_PATH+path.split('.')[0] + '.txt', text)\n",
    "    np.savetxt('data/'+t+ '.txt', path_change, fmt='%s')\n",
    "\n",
    "#For pool/threads testing\n",
    "def make_img_txt_solo(df, category):\n",
    "    df_cat = df[df['CAT']==category].copy()\n",
    "    PATHES = df_cat['PATH'].unique()\n",
    "    for path in tqdm((PATHES), total = len(PATHES), desc='Category: {}'.format(category)):\n",
    "        # Make sure that category doesn't cross\n",
    "        text = ''\n",
    "        for label in df_cat[df_cat['PATH'] == path][['CAT', 'x', 'y', 'w', 'h']].astype(str).values:\n",
    "            text += ' '.join(label) + '\\n'\n",
    "        save_txt(DATA_PATH+path.split('.')[0] + '.txt', text)\n",
    "    return None"
   ]
  },
  {
   "cell_type": "code",
   "execution_count": null,
   "metadata": {
    "ExecuteTime": {
     "start_time": "2018-08-18T14:13:24.231Z"
    }
   },
   "outputs": [
    {
     "name": "stderr",
     "output_type": "stream",
     "text": [
      "Category: 1: 100%|██████████| 7293/7293 [00:11<00:00, 622.70it/s]s]\n",
      "Category: 2: 100%|██████████| 8078/8078 [00:12<00:00, 628.46it/s]s]\n",
      "Category: 3:   9%|▊         | 21176/248384 [15:18<2:44:13, 23.06it/s]"
     ]
    }
   ],
   "source": [
    "from multiprocessing.pool import Pool\n",
    "from functools import partial\n",
    "\n",
    "pool = Pool(4)\n",
    "func = partial(make_img_txt_solo, train)\n",
    "list(tqdm(pool.imap(func, train['CAT'].unique()), total = len(train['CAT'].unique())))\n",
    "pool.close()\n",
    "pool.join()"
   ]
  },
  {
   "cell_type": "code",
   "execution_count": 15,
   "metadata": {
    "ExecuteTime": {
     "end_time": "2018-08-18T17:47:16.201781Z",
     "start_time": "2018-08-18T17:47:15.785320Z"
    }
   },
   "outputs": [],
   "source": [
    "np.savetxt('data/'+'train'+ '.txt', train['PATH'].unique(), fmt='%s')"
   ]
  },
  {
   "cell_type": "code",
   "execution_count": 13,
   "metadata": {
    "ExecuteTime": {
     "end_time": "2018-08-18T17:33:15.422777Z",
     "start_time": "2018-08-18T17:31:40.121182Z"
    }
   },
   "outputs": [
    {
     "data": {
      "application/vnd.jupyter.widget-view+json": {
       "model_id": "4ae8d2db56c04081bc831b06be8d38a4",
       "version_major": 2,
       "version_minor": 0
      },
      "text/plain": [
       "HBox(children=(IntProgress(value=0, description='Category: 0', max=14663), HTML(value='')))"
      ]
     },
     "metadata": {},
     "output_type": "display_data"
    },
    {
     "data": {
      "application/vnd.jupyter.widget-view+json": {
       "model_id": "28b1755b2b3541e6a6bff48ddb58d3d5",
       "version_major": 2,
       "version_minor": 0
      },
      "text/plain": [
       "HBox(children=(IntProgress(value=0, description='Category: 1', max=247), HTML(value='')))"
      ]
     },
     "metadata": {},
     "output_type": "display_data"
    },
    {
     "data": {
      "application/vnd.jupyter.widget-view+json": {
       "model_id": "a89ae70a0ef44de683a63a782a5d8c22",
       "version_major": 2,
       "version_minor": 0
      },
      "text/plain": [
       "HBox(children=(IntProgress(value=0, description='Category: 3', max=19418), HTML(value='')))"
      ]
     },
     "metadata": {},
     "output_type": "display_data"
    },
    {
     "data": {
      "application/vnd.jupyter.widget-view+json": {
       "model_id": "717091e55f774c058e674a3ab15aa90b",
       "version_major": 2,
       "version_minor": 0
      },
      "text/plain": [
       "HBox(children=(IntProgress(value=0, description='Category: 2', max=820), HTML(value='')))"
      ]
     },
     "metadata": {},
     "output_type": "display_data"
    }
   ],
   "source": [
    "make_img_txt(test, 'test')"
   ]
  },
  {
   "cell_type": "raw",
   "metadata": {
    "ExecuteTime": {
     "start_time": "2018-08-18T14:04:30.263Z"
    }
   },
   "source": [
    "make_img_txt(train, 'train')"
   ]
  }
 ],
 "metadata": {
  "kernelspec": {
   "display_name": "Python 3",
   "language": "python",
   "name": "python3"
  },
  "language_info": {
   "codemirror_mode": {
    "name": "ipython",
    "version": 3
   },
   "file_extension": ".py",
   "mimetype": "text/x-python",
   "name": "python",
   "nbconvert_exporter": "python",
   "pygments_lexer": "ipython3",
   "version": "3.6.4"
  },
  "toc": {
   "base_numbering": 1,
   "nav_menu": {},
   "number_sections": true,
   "sideBar": true,
   "skip_h1_title": false,
   "title_cell": "Table of Contents",
   "title_sidebar": "Contents",
   "toc_cell": false,
   "toc_position": {},
   "toc_section_display": true,
   "toc_window_display": false
  },
  "varInspector": {
   "cols": {
    "lenName": 16,
    "lenType": 16,
    "lenVar": 40
   },
   "kernels_config": {
    "python": {
     "delete_cmd_postfix": "",
     "delete_cmd_prefix": "del ",
     "library": "var_list.py",
     "varRefreshCmd": "print(var_dic_list())"
    },
    "r": {
     "delete_cmd_postfix": ") ",
     "delete_cmd_prefix": "rm(",
     "library": "var_list.r",
     "varRefreshCmd": "cat(var_dic_list()) "
    }
   },
   "position": {
    "height": "144px",
    "left": "1543px",
    "right": "20px",
    "top": "124px",
    "width": "350px"
   },
   "types_to_exclude": [
    "module",
    "function",
    "builtin_function_or_method",
    "instance",
    "_Feature"
   ],
   "window_display": true
  }
 },
 "nbformat": 4,
 "nbformat_minor": 2
}
