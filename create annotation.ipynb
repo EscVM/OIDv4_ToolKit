{
 "cells": [
  {
   "cell_type": "code",
   "execution_count": 1,
   "metadata": {},
   "outputs": [],
   "source": [
    "import pandas as pd\n",
    "import os"
   ]
  },
  {
   "cell_type": "code",
   "execution_count": 2,
   "metadata": {},
   "outputs": [
    {
     "data": {
      "text/plain": [
       "Index(['id', 'classes'], dtype='object')"
      ]
     },
     "execution_count": 2,
     "metadata": {},
     "output_type": "execute_result"
    }
   ],
   "source": [
    "classes_data = pd.read_csv('/home/ryzenrtx/CBCT_YOLO/men_women/class-descriptions-boxable.csv')\n",
    "classes_data.columns"
   ]
  },
  {
   "cell_type": "code",
   "execution_count": 30,
   "metadata": {},
   "outputs": [
    {
     "data": {
      "text/plain": [
       "{'Woman': '/m/03bt1vf', 'Man': '/m/04yx4'}"
      ]
     },
     "execution_count": 30,
     "metadata": {},
     "output_type": "execute_result"
    }
   ],
   "source": [
    "class_list = dict()\n",
    "for id, clas in zip(classes_data['id'],classes_data['classes']):\n",
    "    if clas =='Woman' or clas == \"Man\": # Get the id of the class you want to annotate and add it as or condition\n",
    "        class_list[clas] = id\n",
    "class_list"
   ]
  },
  {
   "cell_type": "code",
   "execution_count": 32,
   "metadata": {},
   "outputs": [
    {
     "data": {
      "text/plain": [
       "['Woman', 'Man']"
      ]
     },
     "execution_count": 32,
     "metadata": {},
     "output_type": "execute_result"
    }
   ],
   "source": [
    "classes = list(class_list.keys())\n",
    "classes"
   ]
  },
  {
   "cell_type": "code",
   "execution_count": 35,
   "metadata": {},
   "outputs": [
    {
     "data": {
      "text/plain": [
       "['/m/03bt1vf', '/m/04yx4']"
      ]
     },
     "execution_count": 35,
     "metadata": {},
     "output_type": "execute_result"
    }
   ],
   "source": [
    "class_string = [class_list[key] for key in class_list]\n",
    "class_string"
   ]
  },
  {
   "cell_type": "code",
   "execution_count": 30,
   "metadata": {},
   "outputs": [
    {
     "data": {
      "text/html": [
       "<div>\n",
       "<style scoped>\n",
       "    .dataframe tbody tr th:only-of-type {\n",
       "        vertical-align: middle;\n",
       "    }\n",
       "\n",
       "    .dataframe tbody tr th {\n",
       "        vertical-align: top;\n",
       "    }\n",
       "\n",
       "    .dataframe thead th {\n",
       "        text-align: right;\n",
       "    }\n",
       "</style>\n",
       "<table border=\"1\" class=\"dataframe\">\n",
       "  <thead>\n",
       "    <tr style=\"text-align: right;\">\n",
       "      <th></th>\n",
       "      <th>ImageID</th>\n",
       "      <th>LabelName</th>\n",
       "      <th>XMin</th>\n",
       "      <th>XMax</th>\n",
       "      <th>YMin</th>\n",
       "      <th>YMax</th>\n",
       "    </tr>\n",
       "  </thead>\n",
       "  <tbody>\n",
       "    <tr>\n",
       "      <th>0</th>\n",
       "      <td>000002b66c9c498e</td>\n",
       "      <td>/m/01g317</td>\n",
       "      <td>0.012500</td>\n",
       "      <td>0.195312</td>\n",
       "      <td>0.148438</td>\n",
       "      <td>0.587500</td>\n",
       "    </tr>\n",
       "    <tr>\n",
       "      <th>1</th>\n",
       "      <td>000002b66c9c498e</td>\n",
       "      <td>/m/01g317</td>\n",
       "      <td>0.025000</td>\n",
       "      <td>0.276563</td>\n",
       "      <td>0.714063</td>\n",
       "      <td>0.948438</td>\n",
       "    </tr>\n",
       "    <tr>\n",
       "      <th>2</th>\n",
       "      <td>000002b66c9c498e</td>\n",
       "      <td>/m/01g317</td>\n",
       "      <td>0.151562</td>\n",
       "      <td>0.310937</td>\n",
       "      <td>0.198437</td>\n",
       "      <td>0.590625</td>\n",
       "    </tr>\n",
       "    <tr>\n",
       "      <th>3</th>\n",
       "      <td>000002b66c9c498e</td>\n",
       "      <td>/m/01g317</td>\n",
       "      <td>0.256250</td>\n",
       "      <td>0.429688</td>\n",
       "      <td>0.651563</td>\n",
       "      <td>0.925000</td>\n",
       "    </tr>\n",
       "    <tr>\n",
       "      <th>4</th>\n",
       "      <td>000002b66c9c498e</td>\n",
       "      <td>/m/01g317</td>\n",
       "      <td>0.257812</td>\n",
       "      <td>0.346875</td>\n",
       "      <td>0.235938</td>\n",
       "      <td>0.385938</td>\n",
       "    </tr>\n",
       "  </tbody>\n",
       "</table>\n",
       "</div>"
      ],
      "text/plain": [
       "            ImageID  LabelName      XMin      XMax      YMin      YMax\n",
       "0  000002b66c9c498e  /m/01g317  0.012500  0.195312  0.148438  0.587500\n",
       "1  000002b66c9c498e  /m/01g317  0.025000  0.276563  0.714063  0.948438\n",
       "2  000002b66c9c498e  /m/01g317  0.151562  0.310937  0.198437  0.590625\n",
       "3  000002b66c9c498e  /m/01g317  0.256250  0.429688  0.651563  0.925000\n",
       "4  000002b66c9c498e  /m/01g317  0.257812  0.346875  0.235938  0.385938"
      ]
     },
     "execution_count": 30,
     "metadata": {},
     "output_type": "execute_result"
    }
   ],
   "source": [
    "annotation_data = pd.read_csv('/home/ryzenrtx/CBCT_YOLO/men_women/train-annotations-bbox.csv', usecols=['ImageID', 'LabelName', 'XMin', 'XMax', 'YMin', 'YMax']) # Path of annotation file\n",
    "annotation_data.head()"
   ]
  },
  {
   "cell_type": "code",
   "execution_count": 31,
   "metadata": {},
   "outputs": [
    {
     "data": {
      "text/html": [
       "<div>\n",
       "<style scoped>\n",
       "    .dataframe tbody tr th:only-of-type {\n",
       "        vertical-align: middle;\n",
       "    }\n",
       "\n",
       "    .dataframe tbody tr th {\n",
       "        vertical-align: top;\n",
       "    }\n",
       "\n",
       "    .dataframe thead th {\n",
       "        text-align: right;\n",
       "    }\n",
       "</style>\n",
       "<table border=\"1\" class=\"dataframe\">\n",
       "  <thead>\n",
       "    <tr style=\"text-align: right;\">\n",
       "      <th></th>\n",
       "      <th>ImageID</th>\n",
       "      <th>LabelName</th>\n",
       "      <th>XMin</th>\n",
       "      <th>XMax</th>\n",
       "      <th>YMin</th>\n",
       "      <th>YMax</th>\n",
       "    </tr>\n",
       "  </thead>\n",
       "  <tbody>\n",
       "    <tr>\n",
       "      <th>24</th>\n",
       "      <td>000002c707c9895e</td>\n",
       "      <td>/m/03bt1vf</td>\n",
       "      <td>0.053085</td>\n",
       "      <td>0.464849</td>\n",
       "      <td>0.319846</td>\n",
       "      <td>0.839114</td>\n",
       "    </tr>\n",
       "    <tr>\n",
       "      <th>50</th>\n",
       "      <td>000004f4400f6ec5</td>\n",
       "      <td>/m/04yx4</td>\n",
       "      <td>0.138125</td>\n",
       "      <td>0.621250</td>\n",
       "      <td>0.217554</td>\n",
       "      <td>0.999066</td>\n",
       "    </tr>\n",
       "    <tr>\n",
       "      <th>51</th>\n",
       "      <td>000004f4400f6ec5</td>\n",
       "      <td>/m/04yx4</td>\n",
       "      <td>0.404375</td>\n",
       "      <td>0.788750</td>\n",
       "      <td>0.171802</td>\n",
       "      <td>0.999066</td>\n",
       "    </tr>\n",
       "    <tr>\n",
       "      <th>52</th>\n",
       "      <td>000004f4400f6ec5</td>\n",
       "      <td>/m/04yx4</td>\n",
       "      <td>0.615000</td>\n",
       "      <td>0.999375</td>\n",
       "      <td>0.656396</td>\n",
       "      <td>0.999066</td>\n",
       "    </tr>\n",
       "    <tr>\n",
       "      <th>84</th>\n",
       "      <td>0000201cd362f303</td>\n",
       "      <td>/m/03bt1vf</td>\n",
       "      <td>0.250000</td>\n",
       "      <td>0.395000</td>\n",
       "      <td>0.236398</td>\n",
       "      <td>0.729831</td>\n",
       "    </tr>\n",
       "  </tbody>\n",
       "</table>\n",
       "</div>"
      ],
      "text/plain": [
       "             ImageID   LabelName      XMin      XMax      YMin      YMax\n",
       "24  000002c707c9895e  /m/03bt1vf  0.053085  0.464849  0.319846  0.839114\n",
       "50  000004f4400f6ec5    /m/04yx4  0.138125  0.621250  0.217554  0.999066\n",
       "51  000004f4400f6ec5    /m/04yx4  0.404375  0.788750  0.171802  0.999066\n",
       "52  000004f4400f6ec5    /m/04yx4  0.615000  0.999375  0.656396  0.999066\n",
       "84  0000201cd362f303  /m/03bt1vf  0.250000  0.395000  0.236398  0.729831"
      ]
     },
     "execution_count": 31,
     "metadata": {},
     "output_type": "execute_result"
    }
   ],
   "source": [
    "filtered_class_data = annotation_data.loc[annotation_data['LabelName'].isin(class_string)].copy()\n",
    "filtered_class_data.head()"
   ]
  },
  {
   "cell_type": "code",
   "execution_count": 32,
   "metadata": {},
   "outputs": [],
   "source": [
    "filtered_class_data['ClassNumber'] = ''\n",
    "filtered_class_data['center x'] = ''\n",
    "filtered_class_data['center y'] = ''\n",
    "filtered_class_data['width'] = ''\n",
    "filtered_class_data['height'] = ''"
   ]
  },
  {
   "cell_type": "code",
   "execution_count": 34,
   "metadata": {},
   "outputs": [
    {
     "data": {
      "text/plain": [
       "(2185931, 6)"
      ]
     },
     "execution_count": 34,
     "metadata": {},
     "output_type": "execute_result"
    }
   ],
   "source": [
    "for i in range(len(class_string)):\n",
    "    filtered_class_data.loc[filtered_class_data['LabelName'] == class_string[i], 'ClassNumber'] = i\n",
    "\n",
    "filtered_class_data['center x'] = (filtered_class_data['XMax'] + filtered_class_data['XMin'])/2\n",
    "filtered_class_data['center y'] = (filtered_class_data['YMax'] + filtered_class_data['YMin'])/2\n",
    "\n",
    "filtered_class_data['width'] = filtered_class_data['XMax'] - filtered_class_data['XMin']\n",
    "filtered_class_data['height'] = filtered_class_data['YMax'] - filtered_class_data['YMin']\n",
    "\n",
    "YOLO_values = filtered_class_data.loc[:, ['ImageID', 'ClassNumber', 'center x', 'center y', 'width', 'height']].copy()\n",
    "YOLO_values.shape"
   ]
  },
  {
   "cell_type": "code",
   "execution_count": 39,
   "metadata": {},
   "outputs": [
    {
     "data": {
      "text/html": [
       "<div>\n",
       "<style scoped>\n",
       "    .dataframe tbody tr th:only-of-type {\n",
       "        vertical-align: middle;\n",
       "    }\n",
       "\n",
       "    .dataframe tbody tr th {\n",
       "        vertical-align: top;\n",
       "    }\n",
       "\n",
       "    .dataframe thead th {\n",
       "        text-align: right;\n",
       "    }\n",
       "</style>\n",
       "<table border=\"1\" class=\"dataframe\">\n",
       "  <thead>\n",
       "    <tr style=\"text-align: right;\">\n",
       "      <th></th>\n",
       "      <th>ImageID</th>\n",
       "      <th>ClassNumber</th>\n",
       "      <th>center x</th>\n",
       "      <th>center y</th>\n",
       "      <th>width</th>\n",
       "      <th>height</th>\n",
       "    </tr>\n",
       "  </thead>\n",
       "  <tbody>\n",
       "    <tr>\n",
       "      <th>24</th>\n",
       "      <td>000002c707c9895e</td>\n",
       "      <td>1</td>\n",
       "      <td>0.258967</td>\n",
       "      <td>0.579480</td>\n",
       "      <td>0.411764</td>\n",
       "      <td>0.519268</td>\n",
       "    </tr>\n",
       "    <tr>\n",
       "      <th>50</th>\n",
       "      <td>000004f4400f6ec5</td>\n",
       "      <td>0</td>\n",
       "      <td>0.379687</td>\n",
       "      <td>0.608310</td>\n",
       "      <td>0.483125</td>\n",
       "      <td>0.781512</td>\n",
       "    </tr>\n",
       "    <tr>\n",
       "      <th>51</th>\n",
       "      <td>000004f4400f6ec5</td>\n",
       "      <td>0</td>\n",
       "      <td>0.596562</td>\n",
       "      <td>0.585434</td>\n",
       "      <td>0.384375</td>\n",
       "      <td>0.827264</td>\n",
       "    </tr>\n",
       "    <tr>\n",
       "      <th>52</th>\n",
       "      <td>000004f4400f6ec5</td>\n",
       "      <td>0</td>\n",
       "      <td>0.807187</td>\n",
       "      <td>0.827731</td>\n",
       "      <td>0.384375</td>\n",
       "      <td>0.342670</td>\n",
       "    </tr>\n",
       "    <tr>\n",
       "      <th>84</th>\n",
       "      <td>0000201cd362f303</td>\n",
       "      <td>1</td>\n",
       "      <td>0.322500</td>\n",
       "      <td>0.483115</td>\n",
       "      <td>0.145000</td>\n",
       "      <td>0.493433</td>\n",
       "    </tr>\n",
       "    <tr>\n",
       "      <th>...</th>\n",
       "      <td>...</td>\n",
       "      <td>...</td>\n",
       "      <td>...</td>\n",
       "      <td>...</td>\n",
       "      <td>...</td>\n",
       "      <td>...</td>\n",
       "    </tr>\n",
       "    <tr>\n",
       "      <th>14610164</th>\n",
       "      <td>ffffd9716fd38279</td>\n",
       "      <td>0</td>\n",
       "      <td>0.384062</td>\n",
       "      <td>0.686667</td>\n",
       "      <td>0.256875</td>\n",
       "      <td>0.625000</td>\n",
       "    </tr>\n",
       "    <tr>\n",
       "      <th>14610169</th>\n",
       "      <td>ffffda81903d6bb7</td>\n",
       "      <td>0</td>\n",
       "      <td>0.056875</td>\n",
       "      <td>0.787084</td>\n",
       "      <td>0.113750</td>\n",
       "      <td>0.424167</td>\n",
       "    </tr>\n",
       "    <tr>\n",
       "      <th>14610170</th>\n",
       "      <td>ffffda81903d6bb7</td>\n",
       "      <td>0</td>\n",
       "      <td>0.296250</td>\n",
       "      <td>0.599167</td>\n",
       "      <td>0.271250</td>\n",
       "      <td>0.800000</td>\n",
       "    </tr>\n",
       "    <tr>\n",
       "      <th>14610171</th>\n",
       "      <td>ffffda81903d6bb7</td>\n",
       "      <td>0</td>\n",
       "      <td>0.905625</td>\n",
       "      <td>0.390834</td>\n",
       "      <td>0.187500</td>\n",
       "      <td>0.203333</td>\n",
       "    </tr>\n",
       "    <tr>\n",
       "      <th>14610215</th>\n",
       "      <td>fffffdaec951185d</td>\n",
       "      <td>1</td>\n",
       "      <td>0.746563</td>\n",
       "      <td>0.525328</td>\n",
       "      <td>0.359375</td>\n",
       "      <td>0.921201</td>\n",
       "    </tr>\n",
       "  </tbody>\n",
       "</table>\n",
       "<p>2185931 rows × 6 columns</p>\n",
       "</div>"
      ],
      "text/plain": [
       "                   ImageID ClassNumber  center x  center y     width    height\n",
       "24        000002c707c9895e           1  0.258967  0.579480  0.411764  0.519268\n",
       "50        000004f4400f6ec5           0  0.379687  0.608310  0.483125  0.781512\n",
       "51        000004f4400f6ec5           0  0.596562  0.585434  0.384375  0.827264\n",
       "52        000004f4400f6ec5           0  0.807187  0.827731  0.384375  0.342670\n",
       "84        0000201cd362f303           1  0.322500  0.483115  0.145000  0.493433\n",
       "...                    ...         ...       ...       ...       ...       ...\n",
       "14610164  ffffd9716fd38279           0  0.384062  0.686667  0.256875  0.625000\n",
       "14610169  ffffda81903d6bb7           0  0.056875  0.787084  0.113750  0.424167\n",
       "14610170  ffffda81903d6bb7           0  0.296250  0.599167  0.271250  0.800000\n",
       "14610171  ffffda81903d6bb7           0  0.905625  0.390834  0.187500  0.203333\n",
       "14610215  fffffdaec951185d           1  0.746563  0.525328  0.359375  0.921201\n",
       "\n",
       "[2185931 rows x 6 columns]"
      ]
     },
     "execution_count": 39,
     "metadata": {},
     "output_type": "execute_result"
    }
   ],
   "source": [
    "YOLO_values"
   ]
  },
  {
   "cell_type": "code",
   "execution_count": null,
   "metadata": {},
   "outputs": [],
   "source": [
    "img_path = \"/home/ryzenrtx/CBCT_YOLO/OIDv4_ToolKit/OID/Dataset/validation/Woman\" # Path of images\n",
    "labels_path = \"/home/ryzenrtx/CBCT_YOLO/OIDv4_ToolKit/OID/Dataset/validation/labels_women\" # Path of labels folder\n",
    "os.chdir(img_path)\n",
    "\n",
    "for current_dir, dirs, files in os.walk('.'):\n",
    "    for f in files:\n",
    "        if f.endswith('.jpg'):\n",
    "            img_title = f[:-4]\n",
    "            print(img_title)\n",
    "            YOLO_files = YOLO_values.loc[YOLO_values['ImageID'] == img_title]\n",
    "            df = YOLO_files.loc[:, ['ClassNumber', 'center x', 'center y', 'width', 'height']].copy()\n",
    "\n",
    "            save_path = labels_path + '/' + img_title + '.txt'\n",
    "\n",
    "            df.to_csv(save_path, sep=' ', index=False, header=False)"
   ]
  }
 ],
 "metadata": {
  "kernelspec": {
   "display_name": "Python 3",
   "language": "python",
   "name": "python3"
  },
  "language_info": {
   "codemirror_mode": {
    "name": "ipython",
    "version": 3
   },
   "file_extension": ".py",
   "mimetype": "text/x-python",
   "name": "python",
   "nbconvert_exporter": "python",
   "pygments_lexer": "ipython3",
   "version": "3.8.10"
  },
  "orig_nbformat": 4,
  "vscode": {
   "interpreter": {
    "hash": "916dbcbb3f70747c44a77c7bcd40155683ae19c65e1c03b4aa3499c5328201f1"
   }
  }
 },
 "nbformat": 4,
 "nbformat_minor": 2
}
